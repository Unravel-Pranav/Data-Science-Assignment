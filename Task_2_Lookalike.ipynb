{
 "cells": [
  {
   "cell_type": "markdown",
   "metadata": {},
   "source": [
    "# Customer Lookalike Model Analysis\n",
    "\n",
    "This notebook implements a lookalike model to find similar customers based on their profiles and transaction history."
   ]
  },
  {
   "cell_type": "code",
   "execution_count": 1,
   "metadata": {},
   "outputs": [],
   "source": [
    "# Import required libraries\n",
    "import pandas as pd\n",
    "import numpy as np\n",
    "from sklearn.preprocessing import StandardScaler\n",
    "from sklearn.metrics.pairwise import cosine_similarity\n",
    "from datetime import datetime\n",
    "import json"
   ]
  },
  {
   "cell_type": "code",
   "execution_count": 2,
   "metadata": {},
   "outputs": [],
   "source": [
    "# Load the datasets\n",
    "customers_df = pd.read_csv('Customers.csv')\n",
    "transactions_df = pd.read_csv('Transactions.csv')\n",
    "products_df = pd.read_csv('Products.csv')\n",
    "\n",
    "# Calculate customer age on platform\n",
    "customers_df['SignupDate'] = pd.to_datetime(customers_df['SignupDate'])\n",
    "current_date = datetime(2025, 1, 27)\n",
    "customers_df['days_on_platform'] = (current_date - customers_df['SignupDate']).dt.days\n",
    "\n",
    "# Create region encoding\n",
    "region_dummies = pd.get_dummies(customers_df['Region'], prefix='region')\n",
    "customers_df = pd.concat([customers_df, region_dummies], axis=1)\n",
    "\n",
    "# Process transactions\n",
    "transactions_df['TransactionDate'] = pd.to_datetime(transactions_df['TransactionDate'])\n",
    "trans_products = transactions_df.merge(products_df, on='ProductID')\n",
    "\n",
    "# Calculate customer-level features\n",
    "customer_features = trans_products.groupby('CustomerID').agg({\n",
    "    'TransactionID': 'count',\n",
    "    'Quantity': ['sum', 'mean'],\n",
    "    'TotalValue': ['sum', 'mean'],\n",
    "    'Category': lambda x: list(set(x))\n",
    "}).reset_index()\n",
    "\n",
    "# Flatten column names\n",
    "customer_features.columns = ['CustomerID', 'num_transactions', 'total_quantity', \n",
    "                           'avg_quantity', 'total_spend', 'avg_spend', 'categories']\n",
    "\n",
    "# Create category preferences\n",
    "all_categories = products_df['Category'].unique()\n",
    "for category in all_categories:\n",
    "    customer_features[f'category_{category}'] = customer_features['categories'].apply(\n",
    "        lambda x: 1 if category in x else 0)\n",
    "\n",
    "customer_features.drop('categories', axis=1, inplace=True)\n",
    "\n",
    "# Merge all features\n",
    "final_features = customers_df.merge(customer_features, on='CustomerID', how='left').fillna(0)"
   ]
  },
  {
   "cell_type": "code",
   "execution_count": 3,
   "metadata": {},
   "outputs": [],
   "source": [
    "# Select features for similarity calculation\n",
    "feature_columns = ['days_on_platform', 'num_transactions', 'total_quantity', \n",
    "                  'avg_quantity', 'total_spend', 'avg_spend'] + \\\n",
    "                 [col for col in final_features.columns if col.startswith('region_')] + \\\n",
    "                 [col for col in final_features.columns if col.startswith('category_')]\n",
    "\n",
    "# Scale features\n",
    "scaler = StandardScaler()\n",
    "features_scaled = scaler.fit_transform(final_features[feature_columns])\n",
    "\n",
    "# Calculate similarity matrix\n",
    "similarity_matrix = cosine_similarity(features_scaled)"
   ]
  },
  {
   "cell_type": "code",
   "execution_count": 4,
   "metadata": {},
   "outputs": [
    {
     "name": "stdout",
     "output_type": "stream",
     "text": [
      "Sample of lookalike map:\n",
      "\n",
      "C0001: [['C0174', 0.9786], ['C0152', 0.9675], ['C0004', 0.6992]]\n",
      "\n",
      "C0002: [['C0159', 0.9489], ['C0134', 0.9094], ['C0106', 0.7741]]\n",
      "\n",
      "C0003: [['C0129', 0.9211], ['C0195', 0.8585], ['C0091', 0.8527]]\n"
     ]
    }
   ],
   "source": [
    "def generate_lookalike_map(final_features, similarity_matrix, target_customers):\n",
    "    lookalike_map = {}\n",
    "    \n",
    "    for target_id in target_customers:\n",
    "        target_idx = final_features[final_features['CustomerID'] == target_id].index[0]\n",
    "        similarities = similarity_matrix[target_idx]\n",
    "        \n",
    "        # Get top 3 similar customers (excluding self)\n",
    "        similar_indices = np.argsort(similarities)[::-1][1:4]\n",
    "        \n",
    "        # Create list of [customer_id, score] pairs\n",
    "        similar_customers = [\n",
    "            [final_features.iloc[idx]['CustomerID'], round(similarities[idx], 4)]\n",
    "            for idx in similar_indices\n",
    "        ]\n",
    "        \n",
    "        lookalike_map[target_id] = similar_customers\n",
    "    \n",
    "    return lookalike_map\n",
    "\n",
    "# Generate target customer IDs (C0001-C0020)\n",
    "target_customers = [f'C{str(i).zfill(4)}' for i in range(1, 21)]\n",
    "\n",
    "# Generate lookalike map\n",
    "lookalike_map = generate_lookalike_map(final_features, similarity_matrix, target_customers)\n",
    "\n",
    "# Save to CSV in the required format\n",
    "with open('Lookalike.csv', 'w') as f:\n",
    "    f.write(json.dumps(lookalike_map))\n",
    "\n",
    "# Display example results\n",
    "print(\"Sample of lookalike map:\")\n",
    "for i in range(3):  # Show first 3 entries\n",
    "    customer_id = target_customers[i]\n",
    "    print(f\"\\n{customer_id}: {lookalike_map[customer_id]}\")"
   ]
  }
 ],
 "metadata": {
  "kernelspec": {
   "display_name": "venv",
   "language": "python",
   "name": "python3"
  },
  "language_info": {
   "codemirror_mode": {
    "name": "ipython",
    "version": 3
   },
   "file_extension": ".py",
   "mimetype": "text/x-python",
   "name": "python",
   "nbconvert_exporter": "python",
   "pygments_lexer": "ipython3",
   "version": "3.10.7"
  }
 },
 "nbformat": 4,
 "nbformat_minor": 4
}
